{
 "cells": [
  {
   "cell_type": "markdown",
   "id": "15a1247f",
   "metadata": {},
   "source": [
    "# Hamoye Internship - Stage A (Data Engineering)"
   ]
  },
  {
   "cell_type": "markdown",
   "id": "63818401",
   "metadata": {},
   "source": [
    "# Yaman Dahiya\n",
    "# ID: 18998c116cc1f000"
   ]
  },
  {
   "cell_type": "code",
   "execution_count": 1,
   "id": "a5d51ad0",
   "metadata": {},
   "outputs": [],
   "source": [
    "import numpy as np\n",
    "import pandas as pd"
   ]
  },
  {
   "cell_type": "code",
   "execution_count": 2,
   "id": "011d068d",
   "metadata": {},
   "outputs": [
    {
     "data": {
      "text/html": [
       "<div>\n",
       "<style scoped>\n",
       "    .dataframe tbody tr th:only-of-type {\n",
       "        vertical-align: middle;\n",
       "    }\n",
       "\n",
       "    .dataframe tbody tr th {\n",
       "        vertical-align: top;\n",
       "    }\n",
       "\n",
       "    .dataframe thead th {\n",
       "        text-align: right;\n",
       "    }\n",
       "</style>\n",
       "<table border=\"1\" class=\"dataframe\">\n",
       "  <thead>\n",
       "    <tr style=\"text-align: right;\">\n",
       "      <th></th>\n",
       "      <th>Area Code</th>\n",
       "      <th>Area</th>\n",
       "      <th>Item Code</th>\n",
       "      <th>Item</th>\n",
       "      <th>Element Code</th>\n",
       "      <th>Element</th>\n",
       "      <th>Unit</th>\n",
       "      <th>Y2014</th>\n",
       "      <th>Y2015</th>\n",
       "      <th>Y2016</th>\n",
       "      <th>Y2017</th>\n",
       "      <th>Y2018</th>\n",
       "    </tr>\n",
       "  </thead>\n",
       "  <tbody>\n",
       "    <tr>\n",
       "      <th>0</th>\n",
       "      <td>4</td>\n",
       "      <td>Algeria</td>\n",
       "      <td>2501</td>\n",
       "      <td>Population</td>\n",
       "      <td>511</td>\n",
       "      <td>Total Population - Both sexes</td>\n",
       "      <td>1000 persons</td>\n",
       "      <td>38924.00</td>\n",
       "      <td>39728.00</td>\n",
       "      <td>40551.00</td>\n",
       "      <td>41389.00</td>\n",
       "      <td>42228.00</td>\n",
       "    </tr>\n",
       "    <tr>\n",
       "      <th>1</th>\n",
       "      <td>4</td>\n",
       "      <td>Algeria</td>\n",
       "      <td>2501</td>\n",
       "      <td>Population</td>\n",
       "      <td>5301</td>\n",
       "      <td>Domestic supply quantity</td>\n",
       "      <td>1000 tonnes</td>\n",
       "      <td>0.00</td>\n",
       "      <td>0.00</td>\n",
       "      <td>0.00</td>\n",
       "      <td>0.00</td>\n",
       "      <td>0.00</td>\n",
       "    </tr>\n",
       "    <tr>\n",
       "      <th>2</th>\n",
       "      <td>4</td>\n",
       "      <td>Algeria</td>\n",
       "      <td>2901</td>\n",
       "      <td>Grand Total</td>\n",
       "      <td>664</td>\n",
       "      <td>Food supply (kcal/capita/day)</td>\n",
       "      <td>kcal/capita/day</td>\n",
       "      <td>3377.00</td>\n",
       "      <td>3379.00</td>\n",
       "      <td>3372.00</td>\n",
       "      <td>3341.00</td>\n",
       "      <td>3322.00</td>\n",
       "    </tr>\n",
       "    <tr>\n",
       "      <th>3</th>\n",
       "      <td>4</td>\n",
       "      <td>Algeria</td>\n",
       "      <td>2901</td>\n",
       "      <td>Grand Total</td>\n",
       "      <td>674</td>\n",
       "      <td>Protein supply quantity (g/capita/day)</td>\n",
       "      <td>g/capita/day</td>\n",
       "      <td>94.90</td>\n",
       "      <td>94.35</td>\n",
       "      <td>94.72</td>\n",
       "      <td>92.82</td>\n",
       "      <td>91.83</td>\n",
       "    </tr>\n",
       "    <tr>\n",
       "      <th>4</th>\n",
       "      <td>4</td>\n",
       "      <td>Algeria</td>\n",
       "      <td>2901</td>\n",
       "      <td>Grand Total</td>\n",
       "      <td>684</td>\n",
       "      <td>Fat supply quantity (g/capita/day)</td>\n",
       "      <td>g/capita/day</td>\n",
       "      <td>80.06</td>\n",
       "      <td>79.36</td>\n",
       "      <td>77.40</td>\n",
       "      <td>80.19</td>\n",
       "      <td>77.28</td>\n",
       "    </tr>\n",
       "    <tr>\n",
       "      <th>5</th>\n",
       "      <td>4</td>\n",
       "      <td>Algeria</td>\n",
       "      <td>2903</td>\n",
       "      <td>Vegetal Products</td>\n",
       "      <td>664</td>\n",
       "      <td>Food supply (kcal/capita/day)</td>\n",
       "      <td>kcal/capita/day</td>\n",
       "      <td>2932.00</td>\n",
       "      <td>2958.00</td>\n",
       "      <td>2941.00</td>\n",
       "      <td>2921.00</td>\n",
       "      <td>2932.00</td>\n",
       "    </tr>\n",
       "    <tr>\n",
       "      <th>6</th>\n",
       "      <td>4</td>\n",
       "      <td>Algeria</td>\n",
       "      <td>2903</td>\n",
       "      <td>Vegetal Products</td>\n",
       "      <td>674</td>\n",
       "      <td>Protein supply quantity (g/capita/day)</td>\n",
       "      <td>g/capita/day</td>\n",
       "      <td>67.14</td>\n",
       "      <td>67.38</td>\n",
       "      <td>67.37</td>\n",
       "      <td>66.11</td>\n",
       "      <td>67.10</td>\n",
       "    </tr>\n",
       "    <tr>\n",
       "      <th>7</th>\n",
       "      <td>4</td>\n",
       "      <td>Algeria</td>\n",
       "      <td>2903</td>\n",
       "      <td>Vegetal Products</td>\n",
       "      <td>684</td>\n",
       "      <td>Fat supply quantity (g/capita/day)</td>\n",
       "      <td>g/capita/day</td>\n",
       "      <td>53.84</td>\n",
       "      <td>54.72</td>\n",
       "      <td>52.04</td>\n",
       "      <td>55.59</td>\n",
       "      <td>54.57</td>\n",
       "    </tr>\n",
       "    <tr>\n",
       "      <th>8</th>\n",
       "      <td>4</td>\n",
       "      <td>Algeria</td>\n",
       "      <td>2941</td>\n",
       "      <td>Animal Products</td>\n",
       "      <td>664</td>\n",
       "      <td>Food supply (kcal/capita/day)</td>\n",
       "      <td>kcal/capita/day</td>\n",
       "      <td>444.00</td>\n",
       "      <td>421.00</td>\n",
       "      <td>431.00</td>\n",
       "      <td>421.00</td>\n",
       "      <td>390.00</td>\n",
       "    </tr>\n",
       "    <tr>\n",
       "      <th>9</th>\n",
       "      <td>4</td>\n",
       "      <td>Algeria</td>\n",
       "      <td>2941</td>\n",
       "      <td>Animal Products</td>\n",
       "      <td>674</td>\n",
       "      <td>Protein supply quantity (g/capita/day)</td>\n",
       "      <td>g/capita/day</td>\n",
       "      <td>27.76</td>\n",
       "      <td>26.97</td>\n",
       "      <td>27.35</td>\n",
       "      <td>26.71</td>\n",
       "      <td>24.73</td>\n",
       "    </tr>\n",
       "    <tr>\n",
       "      <th>10</th>\n",
       "      <td>4</td>\n",
       "      <td>Algeria</td>\n",
       "      <td>2941</td>\n",
       "      <td>Animal Products</td>\n",
       "      <td>684</td>\n",
       "      <td>Fat supply quantity (g/capita/day)</td>\n",
       "      <td>g/capita/day</td>\n",
       "      <td>26.22</td>\n",
       "      <td>24.64</td>\n",
       "      <td>25.37</td>\n",
       "      <td>24.60</td>\n",
       "      <td>22.71</td>\n",
       "    </tr>\n",
       "    <tr>\n",
       "      <th>11</th>\n",
       "      <td>4</td>\n",
       "      <td>Algeria</td>\n",
       "      <td>2905</td>\n",
       "      <td>Cereals - Excluding Beer</td>\n",
       "      <td>5511</td>\n",
       "      <td>Production</td>\n",
       "      <td>1000 tonnes</td>\n",
       "      <td>3436.00</td>\n",
       "      <td>3761.00</td>\n",
       "      <td>3445.00</td>\n",
       "      <td>3478.00</td>\n",
       "      <td>6065.00</td>\n",
       "    </tr>\n",
       "    <tr>\n",
       "      <th>12</th>\n",
       "      <td>4</td>\n",
       "      <td>Algeria</td>\n",
       "      <td>2905</td>\n",
       "      <td>Cereals - Excluding Beer</td>\n",
       "      <td>5611</td>\n",
       "      <td>Import Quantity</td>\n",
       "      <td>1000 tonnes</td>\n",
       "      <td>12604.00</td>\n",
       "      <td>13983.00</td>\n",
       "      <td>13523.00</td>\n",
       "      <td>13039.00</td>\n",
       "      <td>13182.00</td>\n",
       "    </tr>\n",
       "    <tr>\n",
       "      <th>13</th>\n",
       "      <td>4</td>\n",
       "      <td>Algeria</td>\n",
       "      <td>2905</td>\n",
       "      <td>Cereals - Excluding Beer</td>\n",
       "      <td>5072</td>\n",
       "      <td>Stock Variation</td>\n",
       "      <td>1000 tonnes</td>\n",
       "      <td>684.00</td>\n",
       "      <td>1663.00</td>\n",
       "      <td>905.00</td>\n",
       "      <td>705.00</td>\n",
       "      <td>2226.00</td>\n",
       "    </tr>\n",
       "    <tr>\n",
       "      <th>14</th>\n",
       "      <td>4</td>\n",
       "      <td>Algeria</td>\n",
       "      <td>2905</td>\n",
       "      <td>Cereals - Excluding Beer</td>\n",
       "      <td>5911</td>\n",
       "      <td>Export Quantity</td>\n",
       "      <td>1000 tonnes</td>\n",
       "      <td>3.00</td>\n",
       "      <td>7.00</td>\n",
       "      <td>7.00</td>\n",
       "      <td>10.00</td>\n",
       "      <td>17.00</td>\n",
       "    </tr>\n",
       "  </tbody>\n",
       "</table>\n",
       "</div>"
      ],
      "text/plain": [
       "    Area Code     Area  Item Code                      Item  Element Code  \\\n",
       "0           4  Algeria       2501                Population           511   \n",
       "1           4  Algeria       2501                Population          5301   \n",
       "2           4  Algeria       2901               Grand Total           664   \n",
       "3           4  Algeria       2901               Grand Total           674   \n",
       "4           4  Algeria       2901               Grand Total           684   \n",
       "5           4  Algeria       2903          Vegetal Products           664   \n",
       "6           4  Algeria       2903          Vegetal Products           674   \n",
       "7           4  Algeria       2903          Vegetal Products           684   \n",
       "8           4  Algeria       2941           Animal Products           664   \n",
       "9           4  Algeria       2941           Animal Products           674   \n",
       "10          4  Algeria       2941           Animal Products           684   \n",
       "11          4  Algeria       2905  Cereals - Excluding Beer          5511   \n",
       "12          4  Algeria       2905  Cereals - Excluding Beer          5611   \n",
       "13          4  Algeria       2905  Cereals - Excluding Beer          5072   \n",
       "14          4  Algeria       2905  Cereals - Excluding Beer          5911   \n",
       "\n",
       "                                   Element             Unit     Y2014  \\\n",
       "0            Total Population - Both sexes     1000 persons  38924.00   \n",
       "1                 Domestic supply quantity      1000 tonnes      0.00   \n",
       "2            Food supply (kcal/capita/day)  kcal/capita/day   3377.00   \n",
       "3   Protein supply quantity (g/capita/day)     g/capita/day     94.90   \n",
       "4       Fat supply quantity (g/capita/day)     g/capita/day     80.06   \n",
       "5            Food supply (kcal/capita/day)  kcal/capita/day   2932.00   \n",
       "6   Protein supply quantity (g/capita/day)     g/capita/day     67.14   \n",
       "7       Fat supply quantity (g/capita/day)     g/capita/day     53.84   \n",
       "8            Food supply (kcal/capita/day)  kcal/capita/day    444.00   \n",
       "9   Protein supply quantity (g/capita/day)     g/capita/day     27.76   \n",
       "10      Fat supply quantity (g/capita/day)     g/capita/day     26.22   \n",
       "11                              Production      1000 tonnes   3436.00   \n",
       "12                         Import Quantity      1000 tonnes  12604.00   \n",
       "13                         Stock Variation      1000 tonnes    684.00   \n",
       "14                         Export Quantity      1000 tonnes      3.00   \n",
       "\n",
       "       Y2015     Y2016     Y2017     Y2018  \n",
       "0   39728.00  40551.00  41389.00  42228.00  \n",
       "1       0.00      0.00      0.00      0.00  \n",
       "2    3379.00   3372.00   3341.00   3322.00  \n",
       "3      94.35     94.72     92.82     91.83  \n",
       "4      79.36     77.40     80.19     77.28  \n",
       "5    2958.00   2941.00   2921.00   2932.00  \n",
       "6      67.38     67.37     66.11     67.10  \n",
       "7      54.72     52.04     55.59     54.57  \n",
       "8     421.00    431.00    421.00    390.00  \n",
       "9      26.97     27.35     26.71     24.73  \n",
       "10     24.64     25.37     24.60     22.71  \n",
       "11   3761.00   3445.00   3478.00   6065.00  \n",
       "12  13983.00  13523.00  13039.00  13182.00  \n",
       "13   1663.00    905.00    705.00   2226.00  \n",
       "14      7.00      7.00     10.00     17.00  "
      ]
     },
     "execution_count": 2,
     "metadata": {},
     "output_type": "execute_result"
    }
   ],
   "source": [
    "df = pd.read_csv(\"FoodBalanceSheets_E_Africa_NOFLAG.csv\", encoding='latin1')\n",
    "df.head(15)"
   ]
  },
  {
   "cell_type": "markdown",
   "id": "31424d06",
   "metadata": {},
   "source": [
    "Q1.Select columns ‘Y2017’ and ‘Area’, Perform a groupby operation on ‘Area’.  Which of these Areas had the 7th lowest sum in 2017?"
   ]
  },
  {
   "cell_type": "code",
   "execution_count": 3,
   "id": "85fa30a1",
   "metadata": {},
   "outputs": [
    {
     "name": "stdout",
     "output_type": "stream",
     "text": [
      "The 7th lowest area in 2017: Guinea-Bissau\n",
      "With a sum of: 19102.77\n"
     ]
    }
   ],
   "source": [
    "selected_data = df[['Area', 'Y2017']]\n",
    "grouped_data = selected_data.groupby('Area').sum()\n",
    "sums_2017 = grouped_data['Y2017'].sort_values()\n",
    "seventh_lowest_area = sums_2017.index[6] \n",
    "seventh_lowest_sum = sums_2017.iloc[6]\n",
    "print(\"The 7th lowest area in 2017:\", seventh_lowest_area)\n",
    "print(\"With a sum of:\", seventh_lowest_sum)"
   ]
  },
  {
   "cell_type": "markdown",
   "id": "57eaca7b",
   "metadata": {},
   "source": [
    "Q2.Perform a groupby operation on ‘Element’. What year has the highest sum of Stock Variation?"
   ]
  },
  {
   "cell_type": "code",
   "execution_count": 4,
   "id": "a1b9bcc0",
   "metadata": {},
   "outputs": [
    {
     "name": "stdout",
     "output_type": "stream",
     "text": [
      "The year with the highest Stock Variation:  Y2014\n"
     ]
    },
    {
     "name": "stderr",
     "output_type": "stream",
     "text": [
      "C:\\Users\\shubh\\AppData\\Local\\Temp\\ipykernel_20088\\1904533986.py:1: FutureWarning: The default value of numeric_only in DataFrameGroupBy.sum is deprecated. In a future version, numeric_only will default to False. Either specify numeric_only or select only columns which should be valid for the function.\n",
      "  grouped_data = df.groupby('Element').sum()\n"
     ]
    }
   ],
   "source": [
    "grouped_data = df.groupby('Element').sum()\n",
    "max_year = grouped_data.loc['Stock Variation', ['Y2014', 'Y2015', 'Y2016', 'Y2017', 'Y2018']].idxmax()\n",
    "print(\"The year with the highest Stock Variation: \",max_year)"
   ]
  },
  {
   "cell_type": "markdown",
   "id": "26a913d2",
   "metadata": {},
   "source": [
    "Q3.If you have the following list\n",
    "lst = [[35, 'Portugal', 94], [33, 'Argentina', 93], [30 , 'Brazil', 92]]\n",
    "col = [‘Age’,’Nationality’,’Overall’]\n",
    "How do you create a pandas DataFrame using this list, to look like the table below?"
   ]
  },
  {
   "cell_type": "code",
   "execution_count": 5,
   "id": "fe5f7343",
   "metadata": {},
   "outputs": [
    {
     "data": {
      "text/html": [
       "<div>\n",
       "<style scoped>\n",
       "    .dataframe tbody tr th:only-of-type {\n",
       "        vertical-align: middle;\n",
       "    }\n",
       "\n",
       "    .dataframe tbody tr th {\n",
       "        vertical-align: top;\n",
       "    }\n",
       "\n",
       "    .dataframe thead th {\n",
       "        text-align: right;\n",
       "    }\n",
       "</style>\n",
       "<table border=\"1\" class=\"dataframe\">\n",
       "  <thead>\n",
       "    <tr style=\"text-align: right;\">\n",
       "      <th></th>\n",
       "      <th>Age</th>\n",
       "      <th>Nationality</th>\n",
       "      <th>Overall</th>\n",
       "    </tr>\n",
       "  </thead>\n",
       "  <tbody>\n",
       "    <tr>\n",
       "      <th>1</th>\n",
       "      <td>35</td>\n",
       "      <td>Portugal</td>\n",
       "      <td>94</td>\n",
       "    </tr>\n",
       "    <tr>\n",
       "      <th>2</th>\n",
       "      <td>33</td>\n",
       "      <td>Argentina</td>\n",
       "      <td>93</td>\n",
       "    </tr>\n",
       "    <tr>\n",
       "      <th>3</th>\n",
       "      <td>30</td>\n",
       "      <td>Brazil</td>\n",
       "      <td>92</td>\n",
       "    </tr>\n",
       "  </tbody>\n",
       "</table>\n",
       "</div>"
      ],
      "text/plain": [
       "   Age Nationality  Overall\n",
       "1   35    Portugal       94\n",
       "2   33   Argentina       93\n",
       "3   30      Brazil       92"
      ]
     },
     "execution_count": 5,
     "metadata": {},
     "output_type": "execute_result"
    }
   ],
   "source": [
    "lst = [[35, 'Portugal', 94], [33, 'Argentina', 93], [30, 'Brazil', 92]]\n",
    "col = ['Age', 'Nationality', 'Overall']\n",
    "df1 = pd.DataFrame(lst, columns=col, index=[1,2,3])\n",
    "df1"
   ]
  },
  {
   "cell_type": "markdown",
   "id": "400a0ac0",
   "metadata": {},
   "source": [
    "Q4.What is the total Protein supply quantity in Madagascar in 2015?"
   ]
  },
  {
   "cell_type": "code",
   "execution_count": 6,
   "id": "c4c67dc7",
   "metadata": {},
   "outputs": [
    {
     "name": "stdout",
     "output_type": "stream",
     "text": [
      "Total Protein Supply Quantity in Madagascar in 2015: 173.05\n"
     ]
    }
   ],
   "source": [
    "madagascar = df[(df['Area'] == 'Madagascar') & (df['Element'] == 'Protein supply quantity (g/capita/day)')]\n",
    "protein_2015 = madagascar['Y2015'].sum()\n",
    "protein_2015 = round(protein_2015, 2)\n",
    "print(\"Total Protein Supply Quantity in Madagascar in 2015:\", protein_2015)"
   ]
  },
  {
   "cell_type": "markdown",
   "id": "877a842f",
   "metadata": {},
   "source": [
    "Q5.Perform a groupby operation on ‘Element’.  What is the total number of the sum of Processing in 2017?"
   ]
  },
  {
   "cell_type": "code",
   "execution_count": 7,
   "id": "54f55709",
   "metadata": {},
   "outputs": [
    {
     "name": "stdout",
     "output_type": "stream",
     "text": [
      "Total number of the sum of Processing in 2017 is: 292836.0\n"
     ]
    },
    {
     "name": "stderr",
     "output_type": "stream",
     "text": [
      "C:\\Users\\shubh\\AppData\\Local\\Temp\\ipykernel_20088\\2339536280.py:1: FutureWarning: The default value of numeric_only in DataFrameGroupBy.sum is deprecated. In a future version, numeric_only will default to False. Either specify numeric_only or select only columns which should be valid for the function.\n",
      "  grouped_data = df.groupby('Element').sum()\n"
     ]
    }
   ],
   "source": [
    "grouped_data = df.groupby('Element').sum()\n",
    "total_2017 = grouped_data.loc['Processing', 'Y2017'] \n",
    "print(\"Total number of the sum of Processing in 2017 is:\", total_2017)"
   ]
  },
  {
   "cell_type": "markdown",
   "id": "f267581e",
   "metadata": {},
   "source": [
    "Q6.Which of the following is a python inbuilt module?\n",
    "Math"
   ]
  },
  {
   "cell_type": "markdown",
   "id": "5ba7a8b1",
   "metadata": {},
   "source": [
    "Q7.Which of the following dataframe methods can be used to access elements across rows and columns?\n",
    "df.iloc( )\n",
    "df.loc( )"
   ]
  },
  {
   "cell_type": "markdown",
   "id": "b72a3bef",
   "metadata": {},
   "source": [
    "Q8.Consider the following list of tuples:\n",
    "y = [(2, 4), (7, 8), (1, 5, 9)]\n",
    "How would you assign element 8 from the list to a variable x?"
   ]
  },
  {
   "cell_type": "code",
   "execution_count": 8,
   "id": "4401b51b",
   "metadata": {},
   "outputs": [
    {
     "data": {
      "text/plain": [
       "8"
      ]
     },
     "execution_count": 8,
     "metadata": {},
     "output_type": "execute_result"
    }
   ],
   "source": [
    "y = [(2, 4), (7, 8), (1, 5, 9)]\n",
    "x = y[1][1]\n",
    "x"
   ]
  },
  {
   "cell_type": "markdown",
   "id": "9d8fbe16",
   "metadata": {},
   "source": [
    "Q9.Answer the following questions based on the African food production dataset provided by the FAO website already provided\n",
    "What is the total sum of Wine produced in 2015 and 2018 respectively?\n",
    "Hint:\n",
    "Perform a groupby sum aggregation on ‘Item’"
   ]
  },
  {
   "cell_type": "code",
   "execution_count": 9,
   "id": "d8d1a606",
   "metadata": {},
   "outputs": [
    {
     "name": "stdout",
     "output_type": "stream",
     "text": [
      "Total Wine produced in 2015 is:  4251.81\n",
      "Total Wine produced in 2018 is:  4039.32\n"
     ]
    },
    {
     "name": "stderr",
     "output_type": "stream",
     "text": [
      "C:\\Users\\shubh\\AppData\\Local\\Temp\\ipykernel_20088\\358837859.py:1: FutureWarning: The default value of numeric_only in DataFrameGroupBy.sum is deprecated. In a future version, numeric_only will default to False. Either specify numeric_only or select only columns which should be valid for the function.\n",
      "  item = df.groupby('Item').sum()\n"
     ]
    }
   ],
   "source": [
    "item = df.groupby('Item').sum()\n",
    "total_2015 = item.loc['Wine', 'Y2015']\n",
    "total_2018 = item.loc['Wine', 'Y2018']\n",
    "print(\"Total Wine produced in 2015 is: \", total_2015)\n",
    "print(\"Total Wine produced in 2018 is: \", total_2018)"
   ]
  },
  {
   "cell_type": "markdown",
   "id": "50db5752",
   "metadata": {},
   "source": [
    "Q10.What would be the output for?\n",
    "S = [['him', 'sell'], [90, 28, 43]]\n",
    "S[0][1][1]\n",
    "Ans. 'e'"
   ]
  },
  {
   "cell_type": "markdown",
   "id": "deadba66",
   "metadata": {},
   "source": [
    "Q11.What is the total number of unique countries in the dataset?"
   ]
  },
  {
   "cell_type": "code",
   "execution_count": 10,
   "id": "460eabd8",
   "metadata": {},
   "outputs": [
    {
     "name": "stdout",
     "output_type": "stream",
     "text": [
      "Total number of unique countries are:  49\n"
     ]
    }
   ],
   "source": [
    "unique_count = df['Area'].nunique()\n",
    "print(\"Total number of unique countries are: \",unique_count)"
   ]
  },
  {
   "cell_type": "markdown",
   "id": "51c3f982",
   "metadata": {},
   "source": [
    "Q12.What is the mean and standard deviation across the whole dataset for the year 2017 to 2 decimal places?"
   ]
  },
  {
   "cell_type": "code",
   "execution_count": 11,
   "id": "0f5dafdc",
   "metadata": {},
   "outputs": [
    {
     "name": "stdout",
     "output_type": "stream",
     "text": [
      "Mean for 2017: 140.92\n",
      "Standard Deviation for 2017: 1671.86\n"
     ]
    }
   ],
   "source": [
    "mean = df['Y2017'].mean()\n",
    "std_dev = df['Y2017'].std()\n",
    "print(f\"Mean for 2017: {mean:.2f}\")\n",
    "print(f\"Standard Deviation for 2017: {std_dev:.2f}\")"
   ]
  },
  {
   "cell_type": "markdown",
   "id": "8dd40b84",
   "metadata": {},
   "source": [
    "Q13.How would you check for the number of rows and columns in a pandas DataFrame named df?\n",
    "df.shape"
   ]
  },
  {
   "cell_type": "markdown",
   "id": "34d76aba",
   "metadata": {},
   "source": [
    "Q14.A pandas Dataframe with dimensions (100,3) has how many features and observations?\n",
    "100 rows and 3 observations"
   ]
  },
  {
   "cell_type": "markdown",
   "id": "7984ecbb",
   "metadata": {},
   "source": [
    "Q15.Given the following python code, what would the output of the code give?\n",
    "my_tuppy = (1,2,5,8)\n",
    "my_tuppy[2] = 6"
   ]
  },
  {
   "cell_type": "code",
   "execution_count": 12,
   "id": "a80fdc9c",
   "metadata": {},
   "outputs": [
    {
     "ename": "TypeError",
     "evalue": "'tuple' object does not support item assignment",
     "output_type": "error",
     "traceback": [
      "\u001b[1;31m---------------------------------------------------------------------------\u001b[0m",
      "\u001b[1;31mTypeError\u001b[0m                                 Traceback (most recent call last)",
      "Cell \u001b[1;32mIn[12], line 2\u001b[0m\n\u001b[0;32m      1\u001b[0m my_tuppy \u001b[38;5;241m=\u001b[39m (\u001b[38;5;241m1\u001b[39m,\u001b[38;5;241m2\u001b[39m,\u001b[38;5;241m5\u001b[39m,\u001b[38;5;241m8\u001b[39m)\n\u001b[1;32m----> 2\u001b[0m my_tuppy[\u001b[38;5;241m2\u001b[39m] \u001b[38;5;241m=\u001b[39m \u001b[38;5;241m6\u001b[39m\n",
      "\u001b[1;31mTypeError\u001b[0m: 'tuple' object does not support item assignment"
     ]
    }
   ],
   "source": [
    "my_tuppy = (1,2,5,8)\n",
    "my_tuppy[2] = 6"
   ]
  },
  {
   "cell_type": "markdown",
   "id": "cf372f89",
   "metadata": {},
   "source": [
    "Q16.What is the total number and percentage of missing data in 2014 to 3 decimal places?"
   ]
  },
  {
   "cell_type": "code",
   "execution_count": 13,
   "id": "0fb66770",
   "metadata": {},
   "outputs": [
    {
     "name": "stdout",
     "output_type": "stream",
     "text": [
      "Total number of missing data in 2014 is:  1589\n",
      "Percentage of missing data in 2014 is: 2.607%\n"
     ]
    }
   ],
   "source": [
    "missing_2014 = df['Y2014'].isnull().sum()\n",
    "total_entries = len(df['Y2014'])\n",
    "percentage_missing_2014 = (missing_2014 / total_entries) * 100\n",
    "print(\"Total number of missing data in 2014 is: \", missing_2014)\n",
    "print(\"Percentage of missing data in 2014 is: {:.3f}%\".format(percentage_missing_2014))"
   ]
  },
  {
   "cell_type": "markdown",
   "id": "4bdaf249",
   "metadata": {},
   "source": [
    "Q17.Which year had the least correlation with ‘Element Code’?"
   ]
  },
  {
   "cell_type": "code",
   "execution_count": 14,
   "id": "15277619",
   "metadata": {},
   "outputs": [
    {
     "name": "stdout",
     "output_type": "stream",
     "text": [
      "Least Correlation Year:  Y2016\n",
      "Correlations:  Element Code    1.000000\n",
      "Y2014           0.024457\n",
      "Y2015           0.023889\n",
      "Y2016           0.023444\n",
      "Y2017           0.024254\n",
      "Y2018           0.024279\n",
      "Name: Element Code, dtype: float64\n"
     ]
    }
   ],
   "source": [
    "correlation = df[['Element Code', 'Y2014', 'Y2015', 'Y2016', 'Y2017', 'Y2018']].corr()['Element Code']\n",
    "least_year = correlation[1:].idxmin() \n",
    "print(\"Least Correlation Year: \", least_year)\n",
    "print(\"Correlations: \", correlation)"
   ]
  },
  {
   "cell_type": "markdown",
   "id": "39170a95",
   "metadata": {},
   "source": [
    "Q18.Select columns ‘Y2017’ and ‘Area’, Perform a groupby operation on ‘Area’.  Which of these Areas had the highest sum in 2017?"
   ]
  },
  {
   "cell_type": "code",
   "execution_count": 15,
   "id": "792d2492",
   "metadata": {},
   "outputs": [
    {
     "name": "stdout",
     "output_type": "stream",
     "text": [
      "Area with the highest sum in 2017: Nigeria\n",
      "Highest sum in 2017: 1483268.23\n"
     ]
    }
   ],
   "source": [
    "selected_data = df[['Area', 'Y2017']]\n",
    "groupby_area = selected_data.groupby('Area').sum()\n",
    "highest_area = groupby_area['Y2017'].idxmax()\n",
    "highest_sum = groupby_area['Y2017'].max()\n",
    "print(\"Area with the highest sum in 2017:\", highest_area)\n",
    "print(\"Highest sum in 2017:\", highest_sum)"
   ]
  },
  {
   "cell_type": "markdown",
   "id": "8fc106fc",
   "metadata": {},
   "source": [
    "Q19.Which of these python data structures is unorderly?\n",
    "Set"
   ]
  },
  {
   "cell_type": "markdown",
   "id": "7405eb5a",
   "metadata": {},
   "source": [
    "Q20.Given the following numpy array \n",
    "array  = ([[94, 89, 63],\n",
    "\n",
    "             [93, 92, 48],\n",
    "\n",
    "             [92, 94, 56]])\n",
    "\n",
    "How would you select  the elements in bold and italics from the array?"
   ]
  },
  {
   "cell_type": "code",
   "execution_count": 16,
   "id": "c72b5808",
   "metadata": {},
   "outputs": [
    {
     "name": "stdout",
     "output_type": "stream",
     "text": [
      "[[89 63]\n",
      " [92 48]]\n"
     ]
    }
   ],
   "source": [
    "array = np.array([[94, 89, 63],\n",
    "                  [93, 92, 48],\n",
    "                  [92, 94, 56]])\n",
    "elements = array[ : 2, 1 : ]\n",
    "print(elements)"
   ]
  }
 ],
 "metadata": {
  "kernelspec": {
   "display_name": "Python 3 (ipykernel)",
   "language": "python",
   "name": "python3"
  },
  "language_info": {
   "codemirror_mode": {
    "name": "ipython",
    "version": 3
   },
   "file_extension": ".py",
   "mimetype": "text/x-python",
   "name": "python",
   "nbconvert_exporter": "python",
   "pygments_lexer": "ipython3",
   "version": "3.11.3"
  }
 },
 "nbformat": 4,
 "nbformat_minor": 5
}
